{
  "cells": [
    {
      "cell_type": "markdown",
      "metadata": {
        "id": "36k09Ys3Mnmz"
      },
      "source": [
        "# **Hands-on Lab : Web Scraping**\n"
      ]
    },
    {
      "cell_type": "markdown",
      "metadata": {
        "id": "2IG4I4pUMnmz"
      },
      "source": [
        "Estimated time needed: **30 to 45** minutes\n"
      ]
    },
    {
      "cell_type": "markdown",
      "metadata": {
        "id": "2-QTNMyUMnmz"
      },
      "source": [
        "## Objectives\n"
      ]
    },
    {
      "cell_type": "markdown",
      "metadata": {
        "id": "skYwg3N-Mnmz"
      },
      "source": [
        "In this lab you will perform the following:\n"
      ]
    },
    {
      "cell_type": "markdown",
      "metadata": {
        "id": "fPMFnvVCMnmz"
      },
      "source": [
        "* Extract information from a given web site\n",
        "* Write the scraped data into a csv file.\n"
      ]
    },
    {
      "cell_type": "markdown",
      "metadata": {
        "id": "riB-ml9lMnmz"
      },
      "source": [
        "## Extract information from the given web site\n",
        "You will extract the data from the below web site: <br>\n"
      ]
    },
    {
      "cell_type": "code",
      "execution_count": 1,
      "metadata": {
        "id": "aD5P4i9SMnmz"
      },
      "outputs": [],
      "source": [
        "#this url contains the data you need to scrape\n",
        "url = \"https://cf-courses-data.s3.us.cloud-object-storage.appdomain.cloud/IBM-DA0321EN-SkillsNetwork/labs/datasets/Programming_Languages.html\""
      ]
    },
    {
      "cell_type": "markdown",
      "metadata": {
        "id": "qUC8DBWbMnm0"
      },
      "source": [
        "The data you need to scrape is the **name of the programming language** and **average annual salary**.<br> It is a good idea to open the url in your web broswer and study the contents of the web page before you start to scrape.\n"
      ]
    },
    {
      "cell_type": "markdown",
      "metadata": {
        "id": "_o-B40ieMnm0"
      },
      "source": [
        "Import the required libraries\n"
      ]
    },
    {
      "cell_type": "code",
      "execution_count": 10,
      "metadata": {
        "id": "ZU7NzdVMMnm0"
      },
      "outputs": [],
      "source": [
        "# Your code here\n",
        "import requests\n",
        "from bs4 import BeautifulSoup"
      ]
    },
    {
      "cell_type": "markdown",
      "metadata": {
        "id": "60yXgvn6Mnm0"
      },
      "source": [
        "Download the webpage at the url\n"
      ]
    },
    {
      "cell_type": "code",
      "execution_count": 11,
      "metadata": {
        "colab": {
          "base_uri": "https://localhost:8080/"
        },
        "id": "2IXUKBc2Mnm0",
        "outputId": "4d913a44-f7ee-4e64-a802-53fb42dc73a5"
      },
      "outputs": [
        {
          "output_type": "stream",
          "name": "stdout",
          "text": [
            "Programming Language: Python, Average Annual Salary: $114,383\n",
            "Programming Language: Java, Average Annual Salary: $101,013\n",
            "Programming Language: R, Average Annual Salary: $92,037\n",
            "Programming Language: Javascript, Average Annual Salary: $110,981\n",
            "Programming Language: Swift, Average Annual Salary: $130,801\n",
            "Programming Language: C++, Average Annual Salary: $113,865\n",
            "Programming Language: C#, Average Annual Salary: $88,726\n",
            "Programming Language: PHP, Average Annual Salary: $84,727\n",
            "Programming Language: SQL, Average Annual Salary: $84,793\n",
            "Programming Language: Go, Average Annual Salary: $94,082\n"
          ]
        }
      ],
      "source": [
        "# Download the webpage at the url\n",
        "url = \"https://cf-courses-data.s3.us.cloud-object-storage.appdomain.cloud/IBM-DA0321EN-SkillsNetwork/labs/datasets/Programming_Languages.html\"\n",
        "response = requests.get(url)\n",
        "\n",
        "# Check if the request was successful\n",
        "if response.status_code == 200:\n",
        "    # Parse the webpage content\n",
        "    soup = BeautifulSoup(response.content, 'html.parser')\n",
        "\n",
        "    # Find all table rows\n",
        "    rows = soup.find_all('tr')\n",
        "\n",
        "    # Initialize lists to store programming languages and average annual salaries\n",
        "    languages = []\n",
        "    salaries = []\n",
        "\n",
        "    # Loop through each row and extract data\n",
        "    for row in rows[1:]:  # Skipping the header row\n",
        "        cols = row.find_all('td')\n",
        "        language = cols[1].text.strip()\n",
        "        salary = cols[3].text.strip()\n",
        "\n",
        "        languages.append(language)\n",
        "        salaries.append(salary)\n",
        "\n",
        "    # Print the extracted data\n",
        "    for language, salary in zip(languages, salaries):\n",
        "        print(f\"Programming Language: {language}, Average Annual Salary: {salary}\")\n",
        "else:\n",
        "    print(\"Failed to retrieve the webpage\")\n"
      ]
    },
    {
      "cell_type": "markdown",
      "metadata": {
        "id": "HIpKCKlfMnm0"
      },
      "source": [
        "Create a soup object\n"
      ]
    },
    {
      "cell_type": "code",
      "execution_count": 12,
      "metadata": {
        "id": "sg_zEQaQMnm0"
      },
      "outputs": [],
      "source": [
        "from bs4 import BeautifulSoup\n",
        "\n",
        "# Assuming 'response' contains the downloaded webpage content\n",
        "soup = BeautifulSoup(response.content, 'html.parser')\n",
        "\n",
        "# Now 'soup' is the BeautifulSoup object representing the webpage content"
      ]
    },
    {
      "cell_type": "markdown",
      "metadata": {
        "id": "JDg5SVy3Mnm0"
      },
      "source": [
        "Scrape the `Language name` and `annual average salary`.\n"
      ]
    },
    {
      "cell_type": "code",
      "execution_count": 13,
      "metadata": {
        "colab": {
          "base_uri": "https://localhost:8080/"
        },
        "id": "leEIFKysMnm0",
        "outputId": "6ef7481a-481d-4a6c-b536-7574bcb3a19f"
      },
      "outputs": [
        {
          "output_type": "stream",
          "name": "stdout",
          "text": [
            "Language: Python, Average Annual Salary: $114,383\n",
            "Language: Java, Average Annual Salary: $101,013\n",
            "Language: R, Average Annual Salary: $92,037\n",
            "Language: Javascript, Average Annual Salary: $110,981\n",
            "Language: Swift, Average Annual Salary: $130,801\n",
            "Language: C++, Average Annual Salary: $113,865\n",
            "Language: C#, Average Annual Salary: $88,726\n",
            "Language: PHP, Average Annual Salary: $84,727\n",
            "Language: SQL, Average Annual Salary: $84,793\n",
            "Language: Go, Average Annual Salary: $94,082\n"
          ]
        }
      ],
      "source": [
        "# Find all table rows\n",
        "rows = soup.find_all('tr')\n",
        "\n",
        "# Initialize lists to store programming languages and average annual salaries\n",
        "languages = []\n",
        "salaries = []\n",
        "\n",
        "# Loop through each row and extract data\n",
        "for row in rows[1:]:  # Skipping the header row\n",
        "    cols = row.find_all('td')\n",
        "    language = cols[1].text.strip()\n",
        "    salary = cols[3].text.strip()\n",
        "\n",
        "    languages.append(language)\n",
        "    salaries.append(salary)\n",
        "\n",
        "# Print the extracted data\n",
        "for language, salary in zip(languages, salaries):\n",
        "    print(f\"Language: {language}, Average Annual Salary: {salary}\")\n"
      ]
    },
    {
      "cell_type": "markdown",
      "metadata": {
        "id": "_UJNpf9rMnm1"
      },
      "source": [
        "Save the scrapped data into a file named *popular-languages.csv*\n"
      ]
    },
    {
      "cell_type": "code",
      "execution_count": 15,
      "metadata": {
        "colab": {
          "base_uri": "https://localhost:8080/"
        },
        "id": "PJOa6OIMMnm1",
        "outputId": "6c70c490-5d6a-458c-e0e9-791f0099a717"
      },
      "outputs": [
        {
          "output_type": "stream",
          "name": "stdout",
          "text": [
            "Data saved successfully to popular-languages.csv\n"
          ]
        }
      ],
      "source": [
        "import csv\n",
        "\n",
        "# Open the CSV file in write mode\n",
        "with open('popular-languages.csv', 'w', newline='') as csvfile:\n",
        "    # Create a CSV writer object\n",
        "    writer = csv.writer(csvfile)\n",
        "\n",
        "    # Write the header row\n",
        "    writer.writerow(['Language', 'Average Annual Salary'])\n",
        "\n",
        "    # Write the data rows\n",
        "    for language, salary in zip(languages, salaries):\n",
        "        writer.writerow([language, salary])\n",
        "\n",
        "print(\"Data saved successfully to popular-languages.csv\")"
      ]
    },
    {
      "cell_type": "code",
      "source": [
        "# List the files in the current directory\n",
        "import os\n",
        "os.listdir('.')"
      ],
      "metadata": {
        "colab": {
          "base_uri": "https://localhost:8080/"
        },
        "id": "hROeVm_nOU5U",
        "outputId": "598677a1-54a5-4300-fc23-98ce9aa92f0f"
      },
      "execution_count": 17,
      "outputs": [
        {
          "output_type": "execute_result",
          "data": {
            "text/plain": [
              "['.config', 'popular-languages.csv', 'sample_data']"
            ]
          },
          "metadata": {},
          "execution_count": 17
        }
      ]
    }
  ],
  "metadata": {
    "kernelspec": {
      "display_name": "Python",
      "language": "python",
      "name": "conda-env-python-py"
    },
    "language_info": {
      "name": ""
    },
    "colab": {
      "provenance": []
    }
  },
  "nbformat": 4,
  "nbformat_minor": 0
}