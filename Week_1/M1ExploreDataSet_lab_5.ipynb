{
  "cells": [
    {
      "cell_type": "markdown",
      "metadata": {
        "id": "XdnYPWW2Ogt8"
      },
      "source": [
        "# **Survey Dataset Exploration Lab**\n"
      ]
    },
    {
      "cell_type": "markdown",
      "metadata": {
        "id": "Fu8q_G-tOgt8"
      },
      "source": [
        "Estimated time needed: **30** minutes\n"
      ]
    },
    {
      "cell_type": "markdown",
      "metadata": {
        "id": "mHU53gyQOgt8"
      },
      "source": [
        "## Objectives\n"
      ]
    },
    {
      "cell_type": "markdown",
      "metadata": {
        "id": "v9NfdlROOgt8"
      },
      "source": [
        "After completing this lab you will be able to:\n"
      ]
    },
    {
      "cell_type": "markdown",
      "metadata": {
        "id": "neI9135OOgt8"
      },
      "source": [
        "-   Load the dataset that will used thru the capstone project.\n",
        "-   Explore the dataset.\n",
        "-   Get familier with the data types.\n"
      ]
    },
    {
      "cell_type": "markdown",
      "metadata": {
        "id": "uNaMxylPOgt8"
      },
      "source": [
        "## Load the dataset\n"
      ]
    },
    {
      "cell_type": "markdown",
      "metadata": {
        "id": "kVbR41MrOgt9"
      },
      "source": [
        "Import the required libraries.\n"
      ]
    },
    {
      "cell_type": "code",
      "execution_count": 11,
      "metadata": {
        "id": "GFWeKFWhOgt9"
      },
      "outputs": [],
      "source": [
        "import pandas as pd"
      ]
    },
    {
      "cell_type": "markdown",
      "metadata": {
        "id": "5N46mIcCOgt9"
      },
      "source": [
        "The dataset is available on the IBM Cloud at the below url.\n"
      ]
    },
    {
      "cell_type": "code",
      "execution_count": 12,
      "metadata": {
        "id": "Kb-0vDreOgt9"
      },
      "outputs": [],
      "source": [
        "dataset_url = \"https://cf-courses-data.s3.us.cloud-object-storage.appdomain.cloud/IBM-DA0321EN-SkillsNetwork/LargeData/m1_survey_data.csv\""
      ]
    },
    {
      "cell_type": "markdown",
      "metadata": {
        "id": "FS3wnjJ9Ogt9"
      },
      "source": [
        "Load the data available at dataset_url into a dataframe.\n"
      ]
    },
    {
      "cell_type": "code",
      "execution_count": 13,
      "metadata": {
        "id": "VUE7t9jxOgt9"
      },
      "outputs": [],
      "source": [
        "df = pd.read_csv(dataset_url)"
      ]
    },
    {
      "cell_type": "markdown",
      "metadata": {
        "id": "ZabA2YenOgt9"
      },
      "source": [
        "## Explore the data set\n"
      ]
    },
    {
      "cell_type": "markdown",
      "metadata": {
        "id": "5luh2t8vOgt9"
      },
      "source": [
        "It is a good idea to print the top 5 rows of the dataset to get a feel of how the dataset will look.\n"
      ]
    },
    {
      "cell_type": "markdown",
      "metadata": {
        "id": "Rm7Wc_DdOgt9"
      },
      "source": [
        "Display the top 5 rows and columns from your dataset.\n"
      ]
    },
    {
      "cell_type": "code",
      "execution_count": 14,
      "metadata": {
        "colab": {
          "base_uri": "https://localhost:8080/"
        },
        "id": "Lg2ScVKROgt9",
        "outputId": "78e2e8ff-68e6-4d83-f19f-3554240389b9"
      },
      "outputs": [
        {
          "output_type": "stream",
          "name": "stdout",
          "text": [
            "   Respondent                      MainBranch Hobbyist  \\\n",
            "0           4  I am a developer by profession       No   \n",
            "1           9  I am a developer by profession      Yes   \n",
            "2          13  I am a developer by profession      Yes   \n",
            "3          16  I am a developer by profession      Yes   \n",
            "4          17  I am a developer by profession      Yes   \n",
            "\n",
            "                                         OpenSourcer  \\\n",
            "0                                              Never   \n",
            "1                         Once a month or more often   \n",
            "2  Less than once a month but more than once per ...   \n",
            "3                                              Never   \n",
            "4  Less than once a month but more than once per ...   \n",
            "\n",
            "                                          OpenSource          Employment  \\\n",
            "0  The quality of OSS and closed source software ...  Employed full-time   \n",
            "1  The quality of OSS and closed source software ...  Employed full-time   \n",
            "2  OSS is, on average, of HIGHER quality than pro...  Employed full-time   \n",
            "3  The quality of OSS and closed source software ...  Employed full-time   \n",
            "4  The quality of OSS and closed source software ...  Employed full-time   \n",
            "\n",
            "          Country Student                                            EdLevel  \\\n",
            "0   United States      No           Bachelor’s degree (BA, BS, B.Eng., etc.)   \n",
            "1     New Zealand      No  Some college/university study without earning ...   \n",
            "2   United States      No        Master’s degree (MA, MS, M.Eng., MBA, etc.)   \n",
            "3  United Kingdom      No        Master’s degree (MA, MS, M.Eng., MBA, etc.)   \n",
            "4       Australia      No           Bachelor’s degree (BA, BS, B.Eng., etc.)   \n",
            "\n",
            "                                      UndergradMajor  ...  \\\n",
            "0  Computer science, computer engineering, or sof...  ...   \n",
            "1  Computer science, computer engineering, or sof...  ...   \n",
            "2  Computer science, computer engineering, or sof...  ...   \n",
            "3                                                NaN  ...   \n",
            "4  Computer science, computer engineering, or sof...  ...   \n",
            "\n",
            "                              WelcomeChange  \\\n",
            "0   Just as welcome now as I felt last year   \n",
            "1   Just as welcome now as I felt last year   \n",
            "2  Somewhat more welcome now than last year   \n",
            "3   Just as welcome now as I felt last year   \n",
            "4   Just as welcome now as I felt last year   \n",
            "\n",
            "                                        SONewContent   Age Gender Trans  \\\n",
            "0  Tech articles written by other developers;Indu...  22.0    Man    No   \n",
            "1                                                NaN  23.0    Man    No   \n",
            "2  Tech articles written by other developers;Cour...  28.0    Man    No   \n",
            "3  Tech articles written by other developers;Indu...  26.0    Man    No   \n",
            "4  Tech articles written by other developers;Indu...  29.0    Man    No   \n",
            "\n",
            "                 Sexuality                              Ethnicity Dependents  \\\n",
            "0  Straight / Heterosexual           White or of European descent         No   \n",
            "1                 Bisexual           White or of European descent         No   \n",
            "2  Straight / Heterosexual           White or of European descent        Yes   \n",
            "3  Straight / Heterosexual           White or of European descent         No   \n",
            "4  Straight / Heterosexual  Hispanic or Latino/Latina;Multiracial         No   \n",
            "\n",
            "            SurveyLength                  SurveyEase  \n",
            "0  Appropriate in length                        Easy  \n",
            "1  Appropriate in length  Neither easy nor difficult  \n",
            "2  Appropriate in length                        Easy  \n",
            "3  Appropriate in length  Neither easy nor difficult  \n",
            "4  Appropriate in length                        Easy  \n",
            "\n",
            "[5 rows x 85 columns]\n"
          ]
        }
      ],
      "source": [
        "print(df.head())"
      ]
    },
    {
      "cell_type": "markdown",
      "metadata": {
        "id": "qpaJGw01Ogt9"
      },
      "source": [
        "## Find out the number of rows and columns\n"
      ]
    },
    {
      "cell_type": "markdown",
      "metadata": {
        "id": "wlZ7r6WROgt-"
      },
      "source": [
        "Start by exploring the numbers of rows and columns of data in the dataset.\n"
      ]
    },
    {
      "cell_type": "markdown",
      "metadata": {
        "id": "05p00zpHOgt-"
      },
      "source": [
        "Print the number of rows in the dataset.\n"
      ]
    },
    {
      "cell_type": "code",
      "execution_count": 15,
      "metadata": {
        "colab": {
          "base_uri": "https://localhost:8080/"
        },
        "id": "_zKqk7BWOgt-",
        "outputId": "9e1f573b-e89f-4068-9a75-60e7f49ea089"
      },
      "outputs": [
        {
          "output_type": "stream",
          "name": "stdout",
          "text": [
            "Number of rows: 11552\n"
          ]
        }
      ],
      "source": [
        "num_rows = df.shape[0]\n",
        "print(\"Number of rows:\", num_rows)"
      ]
    },
    {
      "cell_type": "markdown",
      "metadata": {
        "id": "BUYWFcKLOgt-"
      },
      "source": [
        "Print the number of columns in the dataset.\n"
      ]
    },
    {
      "cell_type": "code",
      "execution_count": 16,
      "metadata": {
        "colab": {
          "base_uri": "https://localhost:8080/"
        },
        "id": "Zd_oxO62Ogt-",
        "outputId": "1b149665-d8a2-42a9-f9cf-20bf499f38e2"
      },
      "outputs": [
        {
          "output_type": "stream",
          "name": "stdout",
          "text": [
            "Number of columns: 85\n"
          ]
        }
      ],
      "source": [
        "num_columns = df.shape[1]\n",
        "print(\"Number of columns:\", num_columns)"
      ]
    },
    {
      "cell_type": "markdown",
      "metadata": {
        "id": "7CNK4omXOgt-"
      },
      "source": [
        "## Identify the data types of each column\n"
      ]
    },
    {
      "cell_type": "markdown",
      "metadata": {
        "id": "iFX97mhHOgt-"
      },
      "source": [
        "Explore the dataset and identify the data types of each column.\n"
      ]
    },
    {
      "cell_type": "markdown",
      "metadata": {
        "id": "rwpk41CbOgt-"
      },
      "source": [
        "Print the datatype of all columns.\n"
      ]
    },
    {
      "cell_type": "code",
      "execution_count": 17,
      "metadata": {
        "colab": {
          "base_uri": "https://localhost:8080/"
        },
        "id": "DsdDkTnROgt-",
        "outputId": "39bc5ab9-e5ac-4722-9955-458942f3e116"
      },
      "outputs": [
        {
          "output_type": "stream",
          "name": "stdout",
          "text": [
            "Respondent       int64\n",
            "MainBranch      object\n",
            "Hobbyist        object\n",
            "OpenSourcer     object\n",
            "OpenSource      object\n",
            "                 ...  \n",
            "Sexuality       object\n",
            "Ethnicity       object\n",
            "Dependents      object\n",
            "SurveyLength    object\n",
            "SurveyEase      object\n",
            "Length: 85, dtype: object\n"
          ]
        }
      ],
      "source": [
        "print(df.dtypes)"
      ]
    },
    {
      "cell_type": "markdown",
      "metadata": {
        "id": "UdZIkmeFOgt-"
      },
      "source": [
        "Print the mean age of the survey participants.\n"
      ]
    },
    {
      "cell_type": "code",
      "execution_count": 18,
      "metadata": {
        "colab": {
          "base_uri": "https://localhost:8080/"
        },
        "id": "ahm3zM0qOgt-",
        "outputId": "829383b3-8682-41d5-efff-8a765ed853bf"
      },
      "outputs": [
        {
          "output_type": "stream",
          "name": "stdout",
          "text": [
            "Mean age of survey participants: 30.77239449133718\n"
          ]
        }
      ],
      "source": [
        "mean_age = df['Age'].mean()\n",
        "print(\"Mean age of survey participants:\", mean_age)"
      ]
    },
    {
      "cell_type": "markdown",
      "metadata": {
        "id": "lVO735ojOgt-"
      },
      "source": [
        "The dataset is the result of a world wide survey. Print how many unique countries are there in the Country column.\n"
      ]
    },
    {
      "cell_type": "code",
      "execution_count": 19,
      "metadata": {
        "colab": {
          "base_uri": "https://localhost:8080/"
        },
        "id": "JadmARYUOgt-",
        "outputId": "aaa04f98-ab7d-4fdf-abdc-23164606908b"
      },
      "outputs": [
        {
          "output_type": "stream",
          "name": "stdout",
          "text": [
            "Number of unique countries in the dataset: 135\n"
          ]
        }
      ],
      "source": [
        "unique_countries = df['Country'].nunique()\n",
        "print(\"Number of unique countries in the dataset:\", unique_countries)"
      ]
    }
  ],
  "metadata": {
    "kernelspec": {
      "display_name": "Python",
      "language": "python",
      "name": "conda-env-python-py"
    },
    "language_info": {
      "name": ""
    },
    "colab": {
      "provenance": [],
      "collapsed_sections": [
        "mHU53gyQOgt8"
      ]
    }
  },
  "nbformat": 4,
  "nbformat_minor": 0
}