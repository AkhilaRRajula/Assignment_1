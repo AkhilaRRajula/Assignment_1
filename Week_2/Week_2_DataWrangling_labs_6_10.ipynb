{
  "cells": [
    {
      "cell_type": "markdown",
      "metadata": {
        "id": "eJG8Cy2EuBo5"
      },
      "source": [
        "# **Data Wrangling Lab**\n"
      ]
    },
    {
      "cell_type": "markdown",
      "metadata": {
        "id": "AHoJb-m4uBo6"
      },
      "source": [
        "Estimated time needed: **45 to 60** minutes\n"
      ]
    },
    {
      "cell_type": "markdown",
      "metadata": {
        "id": "v5YSiDEGuBo6"
      },
      "source": [
        "In this assignment you will be performing data wrangling.\n"
      ]
    },
    {
      "cell_type": "markdown",
      "metadata": {
        "id": "xHO-9n4puBo7"
      },
      "source": [
        "## Objectives\n"
      ]
    },
    {
      "cell_type": "markdown",
      "metadata": {
        "id": "mh0elRJ4uBo8"
      },
      "source": [
        "In this lab you will perform the following:\n"
      ]
    },
    {
      "cell_type": "markdown",
      "metadata": {
        "id": "ia-sYNJUuBo8"
      },
      "source": [
        "-   Identify duplicate values in the dataset.\n",
        "\n",
        "-   Remove duplicate values from the dataset.\n",
        "\n",
        "-   Identify missing values in the dataset.\n",
        "\n",
        "-   Impute the missing values in the dataset.\n",
        "\n",
        "-   Normalize data in the dataset.\n"
      ]
    },
    {
      "cell_type": "markdown",
      "metadata": {
        "id": "2bGKTAg0uBo8"
      },
      "source": [
        "<hr>\n"
      ]
    },
    {
      "cell_type": "markdown",
      "metadata": {
        "id": "KJf07GFguBo9"
      },
      "source": [
        "## Hands on Lab\n"
      ]
    },
    {
      "cell_type": "markdown",
      "metadata": {
        "id": "LXW0xha7uBo-"
      },
      "source": [
        "Import pandas module.\n"
      ]
    },
    {
      "cell_type": "code",
      "execution_count": 1,
      "metadata": {
        "id": "j3tUzxPguBo-"
      },
      "outputs": [],
      "source": [
        "import pandas as pd"
      ]
    },
    {
      "cell_type": "markdown",
      "metadata": {
        "id": "0Wyd6LgWuBo_"
      },
      "source": [
        "Load the dataset into a dataframe.\n"
      ]
    },
    {
      "cell_type": "code",
      "execution_count": 2,
      "metadata": {
        "id": "uXJGrwsvuBo_"
      },
      "outputs": [],
      "source": [
        "df = pd.read_csv(\"https://cf-courses-data.s3.us.cloud-object-storage.appdomain.cloud/IBM-DA0321EN-SkillsNetwork/LargeData/m1_survey_data.csv\")"
      ]
    },
    {
      "cell_type": "markdown",
      "metadata": {
        "id": "G9dn1s5EuBpA"
      },
      "source": [
        "## Finding duplicates\n"
      ]
    },
    {
      "cell_type": "markdown",
      "metadata": {
        "id": "YO14ds7PuBpA"
      },
      "source": [
        "In this section you will identify duplicate values in the dataset.\n"
      ]
    },
    {
      "cell_type": "markdown",
      "metadata": {
        "id": "S8bC8-HiuBpA"
      },
      "source": [
        " Find how many duplicate rows exist in the dataframe.\n"
      ]
    },
    {
      "cell_type": "code",
      "execution_count": 3,
      "metadata": {
        "colab": {
          "base_uri": "https://localhost:8080/"
        },
        "id": "Y_w2WIAjuBpA",
        "outputId": "cd6318f2-b266-4e0f-d8ad-50c66a10c91f"
      },
      "outputs": [
        {
          "output_type": "stream",
          "name": "stdout",
          "text": [
            "Number of duplicate rows: 154\n"
          ]
        }
      ],
      "source": [
        "# Count the number of duplicate rows\n",
        "num_duplicates = df.duplicated().sum()\n",
        "\n",
        "print(\"Number of duplicate rows:\", num_duplicates)"
      ]
    },
    {
      "cell_type": "code",
      "source": [
        "# Finding duplicates in the \"Respondent\" column\n",
        "duplicate_count = df.duplicated(subset=['Respondent']).sum()\n",
        "\n",
        "print(\"Number of duplicate values in the 'Respondent' column:\", duplicate_count)"
      ],
      "metadata": {
        "colab": {
          "base_uri": "https://localhost:8080/"
        },
        "id": "W1X2ji8aHRIA",
        "outputId": "5c5726e1-8be0-4a12-dd9a-1fab51a53381"
      },
      "execution_count": 4,
      "outputs": [
        {
          "output_type": "stream",
          "name": "stdout",
          "text": [
            "Number of duplicate values in the 'Respondent' column: 154\n"
          ]
        }
      ]
    },
    {
      "cell_type": "markdown",
      "metadata": {
        "id": "5CtZ24e-uBpA"
      },
      "source": [
        "## Removing duplicates\n"
      ]
    },
    {
      "cell_type": "markdown",
      "metadata": {
        "id": "xrbP9I6OuBpA"
      },
      "source": [
        "Remove the duplicate rows from the dataframe.\n"
      ]
    },
    {
      "cell_type": "code",
      "execution_count": 5,
      "metadata": {
        "colab": {
          "base_uri": "https://localhost:8080/"
        },
        "id": "X9wrVAHquBpA",
        "outputId": "fbe82752-396f-4d3a-d122-af2007f4d902"
      },
      "outputs": [
        {
          "output_type": "stream",
          "name": "stdout",
          "text": [
            "Shape of cleaned DataFrame: (11398, 85)\n"
          ]
        }
      ],
      "source": [
        "# Remove duplicate rows\n",
        "df_cleaned = df.drop_duplicates()\n",
        "\n",
        "# Print the shape of the cleaned DataFrame to verify the removal of duplicates\n",
        "print(\"Shape of cleaned DataFrame:\", df_cleaned.shape)\n"
      ]
    },
    {
      "cell_type": "markdown",
      "metadata": {
        "id": "f0DylmIeuBpA"
      },
      "source": [
        "Verify if duplicates were actually dropped.\n"
      ]
    },
    {
      "cell_type": "code",
      "execution_count": 6,
      "metadata": {
        "colab": {
          "base_uri": "https://localhost:8080/"
        },
        "id": "1ax_v5jTuBpB",
        "outputId": "b0a288f0-ad48-4f44-8ab1-2cd798eb03f9"
      },
      "outputs": [
        {
          "output_type": "stream",
          "name": "stdout",
          "text": [
            "Number of rows in original DataFrame: 11552\n",
            "Number of rows in cleaned DataFrame: 11398\n",
            "Duplicates were dropped successfully.\n"
          ]
        }
      ],
      "source": [
        "# Remove duplicate rows\n",
        "df_cleaned = df.drop_duplicates()\n",
        "\n",
        "# Print the number of rows in the original DataFrame\n",
        "print(\"Number of rows in original DataFrame:\", len(df))\n",
        "\n",
        "# Print the number of rows in the cleaned DataFrame\n",
        "print(\"Number of rows in cleaned DataFrame:\", len(df_cleaned))\n",
        "\n",
        "# Check if duplicates were actually dropped\n",
        "if len(df_cleaned) < len(df):\n",
        "    print(\"Duplicates were dropped successfully.\")\n",
        "else:\n",
        "    print(\"No duplicates were found in the DataFrame.\")"
      ]
    },
    {
      "cell_type": "markdown",
      "metadata": {
        "id": "_MHabP0AuBpB"
      },
      "source": [
        "## Finding Missing values\n"
      ]
    },
    {
      "cell_type": "markdown",
      "metadata": {
        "id": "9BGrL9PhuBpB"
      },
      "source": [
        "Find the missing values for all columns.\n"
      ]
    },
    {
      "cell_type": "code",
      "execution_count": 7,
      "metadata": {
        "colab": {
          "base_uri": "https://localhost:8080/"
        },
        "id": "onPUlV_ZuBpB",
        "outputId": "3319b717-fc7c-4c18-8357-5440a3c7fe85"
      },
      "outputs": [
        {
          "output_type": "stream",
          "name": "stdout",
          "text": [
            "Missing values for all columns:\n",
            "Respondent        0\n",
            "MainBranch        0\n",
            "Hobbyist          0\n",
            "OpenSourcer       0\n",
            "OpenSource       81\n",
            "               ... \n",
            "Sexuality       547\n",
            "Ethnicity       683\n",
            "Dependents      144\n",
            "SurveyLength     19\n",
            "SurveyEase       14\n",
            "Length: 85, dtype: int64\n"
          ]
        }
      ],
      "source": [
        "# Find missing values for all columns\n",
        "missing_values = df.isnull().sum()\n",
        "\n",
        "print(\"Missing values for all columns:\")\n",
        "print(missing_values)"
      ]
    },
    {
      "cell_type": "markdown",
      "metadata": {
        "id": "qT62xKWauBpB"
      },
      "source": [
        "Find out how many rows are missing in the column 'WorkLoc'\n"
      ]
    },
    {
      "cell_type": "code",
      "execution_count": 8,
      "metadata": {
        "colab": {
          "base_uri": "https://localhost:8080/"
        },
        "id": "Q8KIny85uBpB",
        "outputId": "830d5b4f-6f2b-4196-8584-3057196abee9"
      },
      "outputs": [
        {
          "output_type": "stream",
          "name": "stdout",
          "text": [
            "Number of rows missing in the 'WorkLoc' column: 32\n"
          ]
        }
      ],
      "source": [
        "# Find missing values in the 'WorkLoc' column\n",
        "missing_workloc = df['WorkLoc'].isnull().sum()\n",
        "\n",
        "print(\"Number of rows missing in the 'WorkLoc' column:\", missing_workloc)"
      ]
    },
    {
      "cell_type": "markdown",
      "metadata": {
        "id": "iw7Wn4qLuBpB"
      },
      "source": [
        "## Imputing missing values\n"
      ]
    },
    {
      "cell_type": "markdown",
      "metadata": {
        "id": "f8jjKJpFuBpB"
      },
      "source": [
        "Find the  value counts for the column WorkLoc.\n"
      ]
    },
    {
      "cell_type": "code",
      "execution_count": 9,
      "metadata": {
        "colab": {
          "base_uri": "https://localhost:8080/"
        },
        "id": "1f2xzwV0uBpC",
        "outputId": "eea07e42-6068-4a62-c34b-0b60bfa80a16"
      },
      "outputs": [
        {
          "output_type": "stream",
          "name": "stdout",
          "text": [
            "Value counts for the 'WorkLoc' column:\n",
            "Office                                            6905\n",
            "Home                                              3638\n",
            "Other place, such as a coworking space or cafe     977\n",
            "Name: WorkLoc, dtype: int64\n"
          ]
        }
      ],
      "source": [
        "# Find value counts for the 'WorkLoc' column\n",
        "workloc_value_counts = df['WorkLoc'].value_counts()\n",
        "\n",
        "print(\"Value counts for the 'WorkLoc' column:\")\n",
        "print(workloc_value_counts)"
      ]
    },
    {
      "cell_type": "markdown",
      "metadata": {
        "id": "b1BuWmijuBpC"
      },
      "source": [
        "Identify the value that is most frequent (majority) in the WorkLoc column.\n"
      ]
    },
    {
      "cell_type": "code",
      "execution_count": 10,
      "metadata": {
        "colab": {
          "base_uri": "https://localhost:8080/"
        },
        "id": "b6x4RrWyuBpC",
        "outputId": "0e4994b9-2d0c-41dd-9aca-f2dee73f89a1"
      },
      "outputs": [
        {
          "output_type": "stream",
          "name": "stdout",
          "text": [
            "The most frequent value in the 'WorkLoc' column is: Office\n"
          ]
        }
      ],
      "source": [
        "# Find the most frequent value in the 'WorkLoc' column\n",
        "most_frequent_workloc = df['WorkLoc'].value_counts().idxmax()\n",
        "\n",
        "print(\"The most frequent value in the 'WorkLoc' column is:\", most_frequent_workloc)"
      ]
    },
    {
      "cell_type": "markdown",
      "metadata": {
        "id": "DIHDJl_8uBpC"
      },
      "source": [
        "Impute (replace) all the empty rows in the column WorkLoc with the value that you have identified as majority.\n"
      ]
    },
    {
      "cell_type": "code",
      "execution_count": 11,
      "metadata": {
        "colab": {
          "base_uri": "https://localhost:8080/"
        },
        "id": "7YyuoavzuBpC",
        "outputId": "7c87c58d-fbef-42ee-d61b-7c10f7b0a3b6"
      },
      "outputs": [
        {
          "output_type": "stream",
          "name": "stdout",
          "text": [
            "Value counts for the 'WorkLoc' column after replacement:\n",
            "Office                                            6937\n",
            "Home                                              3638\n",
            "Other place, such as a coworking space or cafe     977\n",
            "Name: WorkLoc, dtype: int64\n"
          ]
        }
      ],
      "source": [
        "# Identify the most frequent value in the 'WorkLoc' column\n",
        "most_frequent_workloc = df['WorkLoc'].value_counts().idxmax()\n",
        "\n",
        "# Replace empty rows in the 'WorkLoc' column with the most frequent value\n",
        "df['WorkLoc'].fillna(most_frequent_workloc, inplace=True)\n",
        "\n",
        "# Verify the replacement\n",
        "print(\"Value counts for the 'WorkLoc' column after replacement:\")\n",
        "print(df['WorkLoc'].value_counts())"
      ]
    },
    {
      "cell_type": "markdown",
      "metadata": {
        "id": "7Uxvb-s5uBpC"
      },
      "source": [
        "After imputation there should ideally not be any empty rows in the WorkLoc column.\n"
      ]
    },
    {
      "cell_type": "markdown",
      "metadata": {
        "id": "-vg2WfvBuBpC"
      },
      "source": [
        "Verify if imputing was successful.\n"
      ]
    },
    {
      "cell_type": "code",
      "execution_count": 12,
      "metadata": {
        "colab": {
          "base_uri": "https://localhost:8080/"
        },
        "id": "7aHnLGphuBpC",
        "outputId": "071aa0db-f8ba-4815-9912-13febb092fe8"
      },
      "outputs": [
        {
          "output_type": "stream",
          "name": "stdout",
          "text": [
            "Imputation was successful. There are no empty rows in the 'WorkLoc' column.\n"
          ]
        }
      ],
      "source": [
        "# Identify the most frequent value in the 'WorkLoc' column\n",
        "most_frequent_workloc = df['WorkLoc'].value_counts().idxmax()\n",
        "\n",
        "# Replace empty rows in the 'WorkLoc' column with the most frequent value\n",
        "df['WorkLoc'].fillna(most_frequent_workloc, inplace=True)\n",
        "\n",
        "# Verify if there are any missing values in the 'WorkLoc' column\n",
        "missing_workloc_after_imputation = df['WorkLoc'].isnull().sum()\n",
        "\n",
        "if missing_workloc_after_imputation == 0:\n",
        "    print(\"Imputation was successful. There are no empty rows in the 'WorkLoc' column.\")\n",
        "else:\n",
        "    print(\"Imputation was not successful. There are still\", missing_workloc_after_imputation, \"empty rows in the 'WorkLoc' column.\")"
      ]
    },
    {
      "cell_type": "code",
      "source": [
        "# Find the number of duplicate values in the 'Respondent' column\n",
        "num_duplicates_respondent = df['Respondent'].duplicated().sum()\n",
        "\n",
        "print(\"Number of duplicate values in the 'Respondent' column:\", num_duplicates_respondent)"
      ],
      "metadata": {
        "colab": {
          "base_uri": "https://localhost:8080/"
        },
        "id": "KlkR7yLVx0Nv",
        "outputId": "4b1a2ba7-85b3-4975-b525-266cd07dccbd"
      },
      "execution_count": 13,
      "outputs": [
        {
          "output_type": "stream",
          "name": "stdout",
          "text": [
            "Number of duplicate values in the 'Respondent' column: 154\n"
          ]
        }
      ]
    },
    {
      "cell_type": "code",
      "source": [
        "# Get the number of rows after removing duplicates\n",
        "num_rows_after_removal = df_cleaned.shape[0]\n",
        "\n",
        "print(\"Number of rows after removing duplicate rows:\", num_rows_after_removal)"
      ],
      "metadata": {
        "colab": {
          "base_uri": "https://localhost:8080/"
        },
        "id": "wQLwi00by-XC",
        "outputId": "624ff728-71e3-444b-8218-58837926c1ff"
      },
      "execution_count": 14,
      "outputs": [
        {
          "output_type": "stream",
          "name": "stdout",
          "text": [
            "Number of rows after removing duplicate rows: 11398\n"
          ]
        }
      ]
    },
    {
      "cell_type": "code",
      "source": [
        "# Find the number of unique rows in the 'Respondent' column\n",
        "num_unique_respondent = df_cleaned['Respondent'].nunique()\n",
        "\n",
        "print(\"Number of unique rows in the 'Respondent' column after removing duplicate rows:\", num_unique_respondent)"
      ],
      "metadata": {
        "colab": {
          "base_uri": "https://localhost:8080/"
        },
        "id": "1tpI_0cTzNuD",
        "outputId": "faa30a80-6c87-49f6-a892-395aa6a8df0f"
      },
      "execution_count": 15,
      "outputs": [
        {
          "output_type": "stream",
          "name": "stdout",
          "text": [
            "Number of unique rows in the 'Respondent' column after removing duplicate rows: 11398\n"
          ]
        }
      ]
    },
    {
      "cell_type": "code",
      "source": [
        "# Count the number of blank rows in the 'EdLevel' column after removing duplicate rows\n",
        "num_blank_edlevel = df_cleaned['EdLevel'].isnull().sum()\n",
        "\n",
        "print(\"Number of blank rows in the 'EdLevel' column after removing duplicate rows:\", num_blank_edlevel)"
      ],
      "metadata": {
        "colab": {
          "base_uri": "https://localhost:8080/"
        },
        "id": "j-k4hINtzjM5",
        "outputId": "c921427c-0892-4b55-81c6-bce8d3a91d5a"
      },
      "execution_count": 16,
      "outputs": [
        {
          "output_type": "stream",
          "name": "stdout",
          "text": [
            "Number of blank rows in the 'EdLevel' column after removing duplicate rows: 112\n"
          ]
        }
      ]
    },
    {
      "cell_type": "code",
      "source": [
        "# Count the number of missing rows in the 'Country' column after removing duplicate rows\n",
        "num_missing_country = df_cleaned['Country'].isnull().sum()\n",
        "\n",
        "print(\"Number of missing rows in the 'Country' column after removing duplicate rows:\", num_missing_country)"
      ],
      "metadata": {
        "colab": {
          "base_uri": "https://localhost:8080/"
        },
        "id": "JfPZc5pLzsa4",
        "outputId": "ef6e96c1-d0da-4bee-f7f0-a3d324f2cf5d"
      },
      "execution_count": 17,
      "outputs": [
        {
          "output_type": "stream",
          "name": "stdout",
          "text": [
            "Number of missing rows in the 'Country' column after removing duplicate rows: 0\n"
          ]
        }
      ]
    },
    {
      "cell_type": "code",
      "source": [
        "# Identify the majority category under the 'Employment' column\n",
        "majority_category_employment = df_cleaned['Employment'].value_counts().idxmax()\n",
        "\n",
        "print(\"Majority category under the 'Employment' column:\", majority_category_employment)"
      ],
      "metadata": {
        "colab": {
          "base_uri": "https://localhost:8080/"
        },
        "id": "or5YsL-e0ADb",
        "outputId": "2e98137e-b8fe-4e19-ef42-04d8729f0246"
      },
      "execution_count": 18,
      "outputs": [
        {
          "output_type": "stream",
          "name": "stdout",
          "text": [
            "Majority category under the 'Employment' column: Employed full-time\n"
          ]
        }
      ]
    },
    {
      "cell_type": "code",
      "source": [
        "# Identify the category with the minimum number of rows under the 'UndergradMajor' column\n",
        "min_category_undergrad_major = df_cleaned['UndergradMajor'].value_counts().idxmin()\n",
        "\n",
        "print(\"Category with the minimum number of rows under the 'UndergradMajor' column:\", min_category_undergrad_major)"
      ],
      "metadata": {
        "colab": {
          "base_uri": "https://localhost:8080/"
        },
        "id": "3e_7wh0T0KhO",
        "outputId": "21d110a8-3434-448d-ecc5-4ef261c4b98a"
      },
      "execution_count": 19,
      "outputs": [
        {
          "output_type": "stream",
          "name": "stdout",
          "text": [
            "Category with the minimum number of rows under the 'UndergradMajor' column: A health science (ex. nursing, pharmacy, radiology)\n"
          ]
        }
      ]
    },
    {
      "cell_type": "markdown",
      "metadata": {
        "id": "zuLy5G4huBpC"
      },
      "source": [
        "## Normalizing data\n"
      ]
    },
    {
      "cell_type": "code",
      "source": [
        "# Read the CSV file into a DataFrame\n",
        "df = pd.read_csv(\"https://cf-courses-data.s3.us.cloud-object-storage.appdomain.cloud/IBM-DA0321EN-SkillsNetwork/LargeData/m1_survey_data.csv\")"
      ],
      "metadata": {
        "id": "RwgRzTdowJnZ"
      },
      "execution_count": 20,
      "outputs": []
    },
    {
      "cell_type": "markdown",
      "metadata": {
        "id": "-79oJAgSuBpC"
      },
      "source": [
        "There are two columns in the dataset that talk about compensation.\n",
        "\n",
        "One is \"CompFreq\". This column shows how often a developer is paid (Yearly, Monthly, Weekly).\n",
        "\n",
        "The other is \"CompTotal\". This column talks about how much the developer is paid per Year, Month, or Week depending upon his/her \"CompFreq\".\n",
        "\n",
        "This makes it difficult to compare the total compensation of the developers.\n",
        "\n",
        "In this section you will create a new column called 'NormalizedAnnualCompensation' which contains the 'Annual Compensation' irrespective of the 'CompFreq'.\n",
        "\n",
        "Once this column is ready, it makes comparison of salaries easy.\n"
      ]
    },
    {
      "cell_type": "markdown",
      "metadata": {
        "id": "IlR5Iln9uBpH"
      },
      "source": [
        "<hr>\n"
      ]
    },
    {
      "cell_type": "markdown",
      "metadata": {
        "id": "XGrnFEFLuBpH"
      },
      "source": [
        "List out the various categories in the column 'CompFreq'\n"
      ]
    },
    {
      "cell_type": "code",
      "execution_count": 21,
      "metadata": {
        "colab": {
          "base_uri": "https://localhost:8080/"
        },
        "id": "kI7uYZNyuBpH",
        "outputId": "63e143fb-0857-49df-e28d-77f9ff5c1154"
      },
      "outputs": [
        {
          "output_type": "stream",
          "name": "stdout",
          "text": [
            "Categories in the 'CompFreq' column:\n",
            "['Yearly' 'Monthly' 'Weekly' nan]\n"
          ]
        }
      ],
      "source": [
        "# List out the various categories in the 'CompFreq' column\n",
        "compfreq_categories = df['CompFreq'].unique()\n",
        "\n",
        "print(\"Categories in the 'CompFreq' column:\")\n",
        "print(compfreq_categories)"
      ]
    },
    {
      "cell_type": "markdown",
      "metadata": {
        "id": "Wz2vbgJGuBpH"
      },
      "source": [
        "Create a new column named 'NormalizedAnnualCompensation'. Use the hint given below if needed.\n"
      ]
    },
    {
      "cell_type": "markdown",
      "metadata": {
        "id": "ou5c-gVAuBpH"
      },
      "source": [
        "Double click to see the **Hint**.\n",
        "\n",
        "<!--\n",
        "\n",
        "Use the below logic to arrive at the values for the column NormalizedAnnualCompensation.\n",
        "\n",
        "If the CompFreq is Yearly then use the exising value in CompTotal\n",
        "If the CompFreq is Monthly then multiply the value in CompTotal with 12 (months in an year)\n",
        "If the CompFreq is Weekly then multiply the value in CompTotal with 52 (weeks in an year)\n",
        "\n",
        "-->\n"
      ]
    },
    {
      "cell_type": "code",
      "execution_count": 22,
      "metadata": {
        "colab": {
          "base_uri": "https://localhost:8080/"
        },
        "id": "0c4QFTADuBpH",
        "outputId": "3722b075-7138-4ada-ca4e-29189f5200f4"
      },
      "outputs": [
        {
          "output_type": "stream",
          "name": "stdout",
          "text": [
            "   Respondent                      MainBranch Hobbyist  \\\n",
            "0           4  I am a developer by profession       No   \n",
            "1           9  I am a developer by profession      Yes   \n",
            "2          13  I am a developer by profession      Yes   \n",
            "3          16  I am a developer by profession      Yes   \n",
            "4          17  I am a developer by profession      Yes   \n",
            "\n",
            "                                         OpenSourcer  \\\n",
            "0                                              Never   \n",
            "1                         Once a month or more often   \n",
            "2  Less than once a month but more than once per ...   \n",
            "3                                              Never   \n",
            "4  Less than once a month but more than once per ...   \n",
            "\n",
            "                                          OpenSource          Employment  \\\n",
            "0  The quality of OSS and closed source software ...  Employed full-time   \n",
            "1  The quality of OSS and closed source software ...  Employed full-time   \n",
            "2  OSS is, on average, of HIGHER quality than pro...  Employed full-time   \n",
            "3  The quality of OSS and closed source software ...  Employed full-time   \n",
            "4  The quality of OSS and closed source software ...  Employed full-time   \n",
            "\n",
            "          Country Student                                            EdLevel  \\\n",
            "0   United States      No           Bachelor’s degree (BA, BS, B.Eng., etc.)   \n",
            "1     New Zealand      No  Some college/university study without earning ...   \n",
            "2   United States      No        Master’s degree (MA, MS, M.Eng., MBA, etc.)   \n",
            "3  United Kingdom      No        Master’s degree (MA, MS, M.Eng., MBA, etc.)   \n",
            "4       Australia      No           Bachelor’s degree (BA, BS, B.Eng., etc.)   \n",
            "\n",
            "                                      UndergradMajor  ...  \\\n",
            "0  Computer science, computer engineering, or sof...  ...   \n",
            "1  Computer science, computer engineering, or sof...  ...   \n",
            "2  Computer science, computer engineering, or sof...  ...   \n",
            "3                                                NaN  ...   \n",
            "4  Computer science, computer engineering, or sof...  ...   \n",
            "\n",
            "                                        SONewContent   Age Gender Trans  \\\n",
            "0  Tech articles written by other developers;Indu...  22.0    Man    No   \n",
            "1                                                NaN  23.0    Man    No   \n",
            "2  Tech articles written by other developers;Cour...  28.0    Man    No   \n",
            "3  Tech articles written by other developers;Indu...  26.0    Man    No   \n",
            "4  Tech articles written by other developers;Indu...  29.0    Man    No   \n",
            "\n",
            "                 Sexuality                              Ethnicity Dependents  \\\n",
            "0  Straight / Heterosexual           White or of European descent         No   \n",
            "1                 Bisexual           White or of European descent         No   \n",
            "2  Straight / Heterosexual           White or of European descent        Yes   \n",
            "3  Straight / Heterosexual           White or of European descent         No   \n",
            "4  Straight / Heterosexual  Hispanic or Latino/Latina;Multiracial         No   \n",
            "\n",
            "            SurveyLength                  SurveyEase  \\\n",
            "0  Appropriate in length                        Easy   \n",
            "1  Appropriate in length  Neither easy nor difficult   \n",
            "2  Appropriate in length                        Easy   \n",
            "3  Appropriate in length  Neither easy nor difficult   \n",
            "4  Appropriate in length                        Easy   \n",
            "\n",
            "  NormalizedAnnualCompensation  \n",
            "0                      61000.0  \n",
            "1                     138000.0  \n",
            "2                      90000.0  \n",
            "3                     348000.0  \n",
            "4                      90000.0  \n",
            "\n",
            "[5 rows x 86 columns]\n"
          ]
        }
      ],
      "source": [
        "# Define a function to convert compensation to an annual basis\n",
        "def normalize_compensation(row):\n",
        "    if row['CompFreq'] == 'Yearly':\n",
        "        return row['CompTotal']\n",
        "    elif row['CompFreq'] == 'Monthly':\n",
        "        return row['CompTotal'] * 12\n",
        "    elif row['CompFreq'] == 'Weekly':\n",
        "        return row['CompTotal'] * 52\n",
        "    else:\n",
        "        return row['CompTotal']\n",
        "\n",
        "# Apply the function to each row of the DataFrame to create the new column\n",
        "df['NormalizedAnnualCompensation'] = df.apply(normalize_compensation, axis=1)\n",
        "\n",
        "# Display the DataFrame with the new column\n",
        "print(df.head())\n"
      ]
    },
    {
      "cell_type": "code",
      "source": [
        "# Count the number of unique values in the 'CompFreq' column\n",
        "num_unique_values_compfreq = df['CompFreq'].nunique()\n",
        "\n",
        "print(\"Number of unique values in the 'CompFreq' column:\", num_unique_values_compfreq)"
      ],
      "metadata": {
        "colab": {
          "base_uri": "https://localhost:8080/"
        },
        "id": "dBO-a4Jn1AW0",
        "outputId": "dc6a9e54-3604-44d2-c02a-e4b4d586ca0f"
      },
      "execution_count": 23,
      "outputs": [
        {
          "output_type": "stream",
          "name": "stdout",
          "text": [
            "Number of unique values in the 'CompFreq' column: 3\n"
          ]
        }
      ]
    },
    {
      "cell_type": "code",
      "source": [
        "# Count the number of respondents being paid yearly\n",
        "num_yearly_compensation = df_cleaned[df_cleaned['CompFreq'] == 'Yearly'].shape[0]\n",
        "\n",
        "print(\"Number of respondents being paid yearly after removing duplicate rows:\", num_yearly_compensation)"
      ],
      "metadata": {
        "colab": {
          "base_uri": "https://localhost:8080/"
        },
        "id": "1-txP8-21XJo",
        "outputId": "b63413db-9144-4683-a7f2-e216fe77b7ac"
      },
      "execution_count": 24,
      "outputs": [
        {
          "output_type": "stream",
          "name": "stdout",
          "text": [
            "Number of respondents being paid yearly after removing duplicate rows: 6073\n"
          ]
        }
      ]
    },
    {
      "cell_type": "code",
      "source": [
        "# Create the 'NormalizedAnnualCompensation' column\n",
        "def normalize_compensation(row):\n",
        "    if row['CompFreq'] == 'Yearly':\n",
        "        return row['CompTotal']\n",
        "    elif row['CompFreq'] == 'Monthly':\n",
        "        return row['CompTotal'] * 12\n",
        "    elif row['CompFreq'] == 'Weekly':\n",
        "        return row['CompTotal'] * 52\n",
        "    else:\n",
        "        return None\n",
        "\n",
        "df_cleaned['NormalizedAnnualCompensation'] = df_cleaned.apply(normalize_compensation, axis=1)\n",
        "\n",
        "# Find the median of the 'NormalizedAnnualCompensation' column\n",
        "median_normalized_annual_compensation = df_cleaned['NormalizedAnnualCompensation'].median()\n",
        "\n",
        "print(\"Median NormalizedAnnualCompensation:\", median_normalized_annual_compensation)"
      ],
      "metadata": {
        "colab": {
          "base_uri": "https://localhost:8080/"
        },
        "id": "057L0AzL1f7Q",
        "outputId": "fab6d19b-4ebb-42c7-a72f-17f3db8a9ec8"
      },
      "execution_count": 25,
      "outputs": [
        {
          "output_type": "stream",
          "name": "stdout",
          "text": [
            "Median NormalizedAnnualCompensation: 100000.0\n"
          ]
        }
      ]
    }
  ],
  "metadata": {
    "kernelspec": {
      "display_name": "Python",
      "language": "python",
      "name": "conda-env-python-py"
    },
    "language_info": {
      "name": ""
    },
    "colab": {
      "provenance": []
    }
  },
  "nbformat": 4,
  "nbformat_minor": 0
}